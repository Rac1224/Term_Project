{
 "cells": [
  {
   "cell_type": "code",
   "execution_count": 2,
   "id": "d5b7d2e5-91bc-472c-bf0e-733dc5475ea2",
   "metadata": {
    "id": "d5b7d2e5-91bc-472c-bf0e-733dc5475ea2"
   },
   "outputs": [],
   "source": [
    "import pandas as pd\n",
    "from sklearn.model_selection import train_test_split, GridSearchCV, cross_val_score\n",
    "from sklearn.linear_model import LinearRegression, Ridge, Lasso\n",
    "from sklearn.tree import DecisionTreeRegressor\n",
    "from sklearn.ensemble import RandomForestRegressor, GradientBoostingRegressor, AdaBoostRegressor\n",
    "from sklearn.svm import SVR\n",
    "from sklearn.neighbors import KNeighborsRegressor\n",
    "from sklearn.metrics import mean_squared_error, r2_score, accuracy_score, mean_absolute_error\n",
    "from nltk.sentiment.vader import SentimentIntensityAnalyzer\n",
    "import nltk\n",
    "import numpy as np\n",
    "import matplotlib.pyplot as plt\n",
    "import seaborn as sns\n",
    "%matplotlib inline"
   ]
  },
  {
   "cell_type": "code",
   "execution_count": 3,
   "id": "21656a2d-34a2-4a80-9bf5-f93fb0b837ce",
   "metadata": {
    "id": "21656a2d-34a2-4a80-9bf5-f93fb0b837ce"
   },
   "outputs": [],
   "source": [
    "df = pd.read_csv('clean_chatgpt_reviews 2.csv')"
   ]
  },
  {
   "cell_type": "code",
   "execution_count": 4,
   "id": "27eeb61c-1766-4b73-be3d-50cbb902a1c2",
   "metadata": {
    "id": "27eeb61c-1766-4b73-be3d-50cbb902a1c2"
   },
   "outputs": [],
   "source": [
    "df.drop(df.columns[0], axis=1, inplace=True)"
   ]
  },
  {
   "cell_type": "code",
   "execution_count": 5,
   "id": "e46d9b30-b589-4459-b900-13f819a4e882",
   "metadata": {
    "colab": {
     "base_uri": "https://localhost:8080/",
     "height": 206
    },
    "id": "e46d9b30-b589-4459-b900-13f819a4e882",
    "outputId": "99a8752a-7ede-4388-a394-af13cc37fd9c"
   },
   "outputs": [
    {
     "data": {
      "text/html": [
       "<div>\n",
       "<style scoped>\n",
       "    .dataframe tbody tr th:only-of-type {\n",
       "        vertical-align: middle;\n",
       "    }\n",
       "\n",
       "    .dataframe tbody tr th {\n",
       "        vertical-align: top;\n",
       "    }\n",
       "\n",
       "    .dataframe thead th {\n",
       "        text-align: right;\n",
       "    }\n",
       "</style>\n",
       "<table border=\"1\" class=\"dataframe\">\n",
       "  <thead>\n",
       "    <tr style=\"text-align: right;\">\n",
       "      <th></th>\n",
       "      <th>userName</th>\n",
       "      <th>content</th>\n",
       "      <th>score</th>\n",
       "      <th>thumbsUpCount</th>\n",
       "      <th>at</th>\n",
       "    </tr>\n",
       "  </thead>\n",
       "  <tbody>\n",
       "    <tr>\n",
       "      <th>0</th>\n",
       "      <td>T H (Trudylh20)</td>\n",
       "      <td>excellent Im impressed 👌 👏</td>\n",
       "      <td>5</td>\n",
       "      <td>0</td>\n",
       "      <td>28-06-2024 21:07</td>\n",
       "    </tr>\n",
       "    <tr>\n",
       "      <th>1</th>\n",
       "      <td>Muhammad bassam adam</td>\n",
       "      <td>perfect</td>\n",
       "      <td>5</td>\n",
       "      <td>0</td>\n",
       "      <td>28-06-2024 20:56</td>\n",
       "    </tr>\n",
       "    <tr>\n",
       "      <th>2</th>\n",
       "      <td>Chinaza Okoli</td>\n",
       "      <td>its been so helpful...love it</td>\n",
       "      <td>5</td>\n",
       "      <td>0</td>\n",
       "      <td>28-06-2024 20:54</td>\n",
       "    </tr>\n",
       "    <tr>\n",
       "      <th>3</th>\n",
       "      <td>Project House Group Ltd</td>\n",
       "      <td>It's amazing tools help me a lot with my work.</td>\n",
       "      <td>5</td>\n",
       "      <td>0</td>\n",
       "      <td>28-06-2024 20:51</td>\n",
       "    </tr>\n",
       "    <tr>\n",
       "      <th>4</th>\n",
       "      <td>Safoan Riyad</td>\n",
       "      <td>I enjoyed ChatGPT. But last update ruined ever...</td>\n",
       "      <td>1</td>\n",
       "      <td>0</td>\n",
       "      <td>28-06-2024 20:50</td>\n",
       "    </tr>\n",
       "  </tbody>\n",
       "</table>\n",
       "</div>"
      ],
      "text/plain": [
       "                  userName                                            content  \\\n",
       "0          T H (Trudylh20)                         excellent Im impressed 👌 👏   \n",
       "1     Muhammad bassam adam                                            perfect   \n",
       "2            Chinaza Okoli                      its been so helpful...love it   \n",
       "3  Project House Group Ltd     It's amazing tools help me a lot with my work.   \n",
       "4             Safoan Riyad  I enjoyed ChatGPT. But last update ruined ever...   \n",
       "\n",
       "   score  thumbsUpCount                at  \n",
       "0      5              0  28-06-2024 21:07  \n",
       "1      5              0  28-06-2024 20:56  \n",
       "2      5              0  28-06-2024 20:54  \n",
       "3      5              0  28-06-2024 20:51  \n",
       "4      1              0  28-06-2024 20:50  "
      ]
     },
     "execution_count": 5,
     "metadata": {},
     "output_type": "execute_result"
    }
   ],
   "source": [
    "df.head()"
   ]
  },
  {
   "cell_type": "code",
   "execution_count": 6,
   "id": "2c810e77-b12e-4fb1-a70b-298abe132b41",
   "metadata": {
    "colab": {
     "base_uri": "https://localhost:8080/"
    },
    "id": "2c810e77-b12e-4fb1-a70b-298abe132b41",
    "outputId": "2dbe7fdd-8bcf-4349-c720-7f7cc02cdf77"
   },
   "outputs": [
    {
     "data": {
      "text/plain": [
       "userName         0\n",
       "content          0\n",
       "score            0\n",
       "thumbsUpCount    0\n",
       "at               0\n",
       "dtype: int64"
      ]
     },
     "execution_count": 6,
     "metadata": {},
     "output_type": "execute_result"
    }
   ],
   "source": [
    "df.isna().sum()"
   ]
  },
  {
   "cell_type": "code",
   "execution_count": 7,
   "id": "7f1e9991-2320-471d-8673-5a4557121ff8",
   "metadata": {
    "id": "7f1e9991-2320-471d-8673-5a4557121ff8"
   },
   "outputs": [],
   "source": [
    "df = df[df.duplicated(subset='content')==False]"
   ]
  },
  {
   "cell_type": "code",
   "execution_count": 8,
   "id": "29b5ea36-45e1-4949-9b7b-9bbd6a715685",
   "metadata": {
    "id": "29b5ea36-45e1-4949-9b7b-9bbd6a715685"
   },
   "outputs": [],
   "source": [
    "import re\n",
    "def remove_non_english(text):\n",
    "    return re.sub(r'[^a-zA-Z\\s]', '', text)\n",
    "\n",
    "# Apply the function to the column\n",
    "df['content'] = df['content'].apply(remove_non_english)\n"
   ]
  },
  {
   "cell_type": "code",
   "execution_count": 9,
   "id": "78f6cd6b-cc18-40ee-b795-6a61fa7be3d5",
   "metadata": {
    "id": "78f6cd6b-cc18-40ee-b795-6a61fa7be3d5"
   },
   "outputs": [],
   "source": [
    "chatGPT_df = df.sample(2000)\n",
    "chatGPT_df.reset_index(inplace=True)\n",
    "chatGPT_df.drop(chatGPT_df.columns[0], axis=1, inplace=True)"
   ]
  },
  {
   "cell_type": "code",
   "execution_count": 10,
   "id": "d1a59fc2-193c-4d6e-9ddc-41d828831cdc",
   "metadata": {
    "colab": {
     "base_uri": "https://localhost:8080/",
     "height": 206
    },
    "id": "d1a59fc2-193c-4d6e-9ddc-41d828831cdc",
    "outputId": "904761ac-3e48-46da-9e44-88c1cd275507",
    "scrolled": true
   },
   "outputs": [
    {
     "data": {
      "text/html": [
       "<div>\n",
       "<style scoped>\n",
       "    .dataframe tbody tr th:only-of-type {\n",
       "        vertical-align: middle;\n",
       "    }\n",
       "\n",
       "    .dataframe tbody tr th {\n",
       "        vertical-align: top;\n",
       "    }\n",
       "\n",
       "    .dataframe thead th {\n",
       "        text-align: right;\n",
       "    }\n",
       "</style>\n",
       "<table border=\"1\" class=\"dataframe\">\n",
       "  <thead>\n",
       "    <tr style=\"text-align: right;\">\n",
       "      <th></th>\n",
       "      <th>userName</th>\n",
       "      <th>content</th>\n",
       "      <th>score</th>\n",
       "      <th>thumbsUpCount</th>\n",
       "      <th>at</th>\n",
       "    </tr>\n",
       "  </thead>\n",
       "  <tbody>\n",
       "    <tr>\n",
       "      <th>0</th>\n",
       "      <td>Kim Rion</td>\n",
       "      <td>its a very interesting app ChatGPT has helped ...</td>\n",
       "      <td>5</td>\n",
       "      <td>0</td>\n",
       "      <td>04-11-2023 19:32</td>\n",
       "    </tr>\n",
       "    <tr>\n",
       "      <th>1</th>\n",
       "      <td>Rekha Thakur</td>\n",
       "      <td>Whats wrong with this aap when I am continuing...</td>\n",
       "      <td>1</td>\n",
       "      <td>1</td>\n",
       "      <td>15-03-2024 02:49</td>\n",
       "    </tr>\n",
       "    <tr>\n",
       "      <th>2</th>\n",
       "      <td>Mubin Zombadkar</td>\n",
       "      <td>First of all IT DOESNT EVEN WANT ME TO LOGIN U...</td>\n",
       "      <td>1</td>\n",
       "      <td>1</td>\n",
       "      <td>06-08-2023 15:18</td>\n",
       "    </tr>\n",
       "    <tr>\n",
       "      <th>3</th>\n",
       "      <td>Prathik Joshua</td>\n",
       "      <td>it is useful for my study</td>\n",
       "      <td>5</td>\n",
       "      <td>0</td>\n",
       "      <td>22-02-2024 08:02</td>\n",
       "    </tr>\n",
       "    <tr>\n",
       "      <th>4</th>\n",
       "      <td>Keshava Murthy G.T</td>\n",
       "      <td>it helps me write fast</td>\n",
       "      <td>4</td>\n",
       "      <td>0</td>\n",
       "      <td>27-05-2024 13:58</td>\n",
       "    </tr>\n",
       "  </tbody>\n",
       "</table>\n",
       "</div>"
      ],
      "text/plain": [
       "             userName                                            content  \\\n",
       "0            Kim Rion  its a very interesting app ChatGPT has helped ...   \n",
       "1        Rekha Thakur  Whats wrong with this aap when I am continuing...   \n",
       "2     Mubin Zombadkar  First of all IT DOESNT EVEN WANT ME TO LOGIN U...   \n",
       "3      Prathik Joshua                          it is useful for my study   \n",
       "4  Keshava Murthy G.T                             it helps me write fast   \n",
       "\n",
       "   score  thumbsUpCount                at  \n",
       "0      5              0  04-11-2023 19:32  \n",
       "1      1              1  15-03-2024 02:49  \n",
       "2      1              1  06-08-2023 15:18  \n",
       "3      5              0  22-02-2024 08:02  \n",
       "4      4              0  27-05-2024 13:58  "
      ]
     },
     "execution_count": 10,
     "metadata": {},
     "output_type": "execute_result"
    }
   ],
   "source": [
    "chatGPT_df.head()"
   ]
  },
  {
   "cell_type": "code",
   "execution_count": 11,
   "id": "oEUm4t0xBzet",
   "metadata": {
    "colab": {
     "base_uri": "https://localhost:8080/",
     "height": 449
    },
    "id": "oEUm4t0xBzet",
    "outputId": "d8132ec9-4e3f-463a-f4ca-a735b1710991"
   },
   "outputs": [
    {
     "data": {
      "image/png": "[encoded data removed]",
      "text/plain": [
       "<Figure size 640x480 with 1 Axes>"
      ]
     },
     "metadata": {},
     "output_type": "display_data"
    }
   ],
   "source": [
    "# @title score vs thumbsUpCount\n",
    "\n",
    "from matplotlib import pyplot as plt\n",
    "chatGPT_df.plot(kind='scatter', x='score', y='thumbsUpCount', s=32, alpha=.8)\n",
    "plt.gca().spines[['top', 'right',]].set_visible(False)"
   ]
  },
  {
   "cell_type": "code",
   "execution_count": 12,
   "id": "97c24a8b-6b3f-45cf-90ff-1ab879717ec2",
   "metadata": {
    "colab": {
     "base_uri": "https://localhost:8080/"
    },
    "id": "97c24a8b-6b3f-45cf-90ff-1ab879717ec2",
    "outputId": "0e527732-af56-4166-d31d-ce264845d0f8"
   },
   "outputs": [
    {
     "name": "stderr",
     "output_type": "stream",
     "text": [
      "[nltk_data] Downloading package vader_lexicon to\n",
      "[nltk_data]     /Users/ritesh/nltk_data...\n",
      "[nltk_data]   Package vader_lexicon is already up-to-date!\n"
     ]
    }
   ],
   "source": [
    "nltk.download('vader_lexicon')\n",
    "sia = SentimentIntensityAnalyzer()\n",
    "def score_sentiment(text):\n",
    "    # Handle potential non-string types by converting to string\n",
    "    if not isinstance(text, str):\n",
    "        text = str(text)  # Convert to string if not already\n",
    "\n",
    "    score = sia.polarity_scores(text)\n",
    "    compound_score = score['compound']\n",
    "\n",
    "    # Map the compound score to a scale of 1 to 5\n",
    "    if compound_score >= 0.6:   # Strongly positive\n",
    "        return 5\n",
    "    elif compound_score >= 0.2:  # Positive\n",
    "        return 4\n",
    "    elif compound_score > -0.2 and compound_score < 0.2:  # Neutral\n",
    "        return 3\n",
    "    elif compound_score > -0.6:  # Negative\n",
    "        return 2\n",
    "    else:                         # Strongly negative\n",
    "        return 1\n",
    "\n",
    "# Apply scoring to the 'content' column, handling potential mixed types\n",
    "chatGPT_df['content_score'] = chatGPT_df['content'].apply(score_sentiment) # Removed lambda and type check as score_sentiment now handles non-string types"
   ]
  },
  {
   "cell_type": "code",
   "execution_count": 13,
   "id": "VyETr0JdpkH6",
   "metadata": {
    "colab": {
     "base_uri": "https://localhost:8080/",
     "height": 206
    },
    "id": "VyETr0JdpkH6",
    "outputId": "44b5d233-8f78-40e0-d9cb-c568d9aabaa7"
   },
   "outputs": [
    {
     "data": {
      "text/html": [
       "<div>\n",
       "<style scoped>\n",
       "    .dataframe tbody tr th:only-of-type {\n",
       "        vertical-align: middle;\n",
       "    }\n",
       "\n",
       "    .dataframe tbody tr th {\n",
       "        vertical-align: top;\n",
       "    }\n",
       "\n",
       "    .dataframe thead th {\n",
       "        text-align: right;\n",
       "    }\n",
       "</style>\n",
       "<table border=\"1\" class=\"dataframe\">\n",
       "  <thead>\n",
       "    <tr style=\"text-align: right;\">\n",
       "      <th></th>\n",
       "      <th>userName</th>\n",
       "      <th>content</th>\n",
       "      <th>score</th>\n",
       "      <th>thumbsUpCount</th>\n",
       "      <th>at</th>\n",
       "      <th>content_score</th>\n",
       "    </tr>\n",
       "  </thead>\n",
       "  <tbody>\n",
       "    <tr>\n",
       "      <th>0</th>\n",
       "      <td>Kim Rion</td>\n",
       "      <td>its a very interesting app ChatGPT has helped ...</td>\n",
       "      <td>5</td>\n",
       "      <td>0</td>\n",
       "      <td>04-11-2023 19:32</td>\n",
       "      <td>5</td>\n",
       "    </tr>\n",
       "    <tr>\n",
       "      <th>1</th>\n",
       "      <td>Rekha Thakur</td>\n",
       "      <td>Whats wrong with this aap when I am continuing...</td>\n",
       "      <td>1</td>\n",
       "      <td>1</td>\n",
       "      <td>15-03-2024 02:49</td>\n",
       "      <td>2</td>\n",
       "    </tr>\n",
       "    <tr>\n",
       "      <th>2</th>\n",
       "      <td>Mubin Zombadkar</td>\n",
       "      <td>First of all IT DOESNT EVEN WANT ME TO LOGIN U...</td>\n",
       "      <td>1</td>\n",
       "      <td>1</td>\n",
       "      <td>06-08-2023 15:18</td>\n",
       "      <td>3</td>\n",
       "    </tr>\n",
       "    <tr>\n",
       "      <th>3</th>\n",
       "      <td>Prathik Joshua</td>\n",
       "      <td>it is useful for my study</td>\n",
       "      <td>5</td>\n",
       "      <td>0</td>\n",
       "      <td>22-02-2024 08:02</td>\n",
       "      <td>4</td>\n",
       "    </tr>\n",
       "    <tr>\n",
       "      <th>4</th>\n",
       "      <td>Keshava Murthy G.T</td>\n",
       "      <td>it helps me write fast</td>\n",
       "      <td>4</td>\n",
       "      <td>0</td>\n",
       "      <td>27-05-2024 13:58</td>\n",
       "      <td>4</td>\n",
       "    </tr>\n",
       "  </tbody>\n",
       "</table>\n",
       "</div>"
      ],
      "text/plain": [
       "             userName                                            content  \\\n",
       "0            Kim Rion  its a very interesting app ChatGPT has helped ...   \n",
       "1        Rekha Thakur  Whats wrong with this aap when I am continuing...   \n",
       "2     Mubin Zombadkar  First of all IT DOESNT EVEN WANT ME TO LOGIN U...   \n",
       "3      Prathik Joshua                          it is useful for my study   \n",
       "4  Keshava Murthy G.T                             it helps me write fast   \n",
       "\n",
       "   score  thumbsUpCount                at  content_score  \n",
       "0      5              0  04-11-2023 19:32              5  \n",
       "1      1              1  15-03-2024 02:49              2  \n",
       "2      1              1  06-08-2023 15:18              3  \n",
       "3      5              0  22-02-2024 08:02              4  \n",
       "4      4              0  27-05-2024 13:58              4  "
      ]
     },
     "execution_count": 13,
     "metadata": {},
     "output_type": "execute_result"
    }
   ],
   "source": [
    "chatGPT_df.head()\n"
   ]
  },
  {
   "cell_type": "code",
   "execution_count": 14,
   "id": "7ac03c58-7354-49d3-b63d-15973ce248fb",
   "metadata": {
    "id": "7ac03c58-7354-49d3-b63d-15973ce248fb"
   },
   "outputs": [],
   "source": [
    "X = chatGPT_df.drop([\"userName\",\"at\",\"content\",\"score\"],axis='columns')\n",
    "y = chatGPT_df['score']"
   ]
  },
  {
   "cell_type": "code",
   "execution_count": 15,
   "id": "9115a59e-7e6f-4a5e-89fc-9d6b7e64cdb7",
   "metadata": {
    "id": "9115a59e-7e6f-4a5e-89fc-9d6b7e64cdb7"
   },
   "outputs": [],
   "source": [
    "X_train, X_test, y_train, y_test = train_test_split(X, y, test_size=0.2, random_state=42)"
   ]
  },
  {
   "cell_type": "code",
   "execution_count": 16,
   "id": "6bd42c9b-3e5e-47d2-8143-edd75716bf9b",
   "metadata": {
    "colab": {
     "base_uri": "https://localhost:8080/"
    },
    "id": "6bd42c9b-3e5e-47d2-8143-edd75716bf9b",
    "outputId": "0cd0fe87-ec2b-4d63-a650-20461d0be3a9"
   },
   "outputs": [
    {
     "data": {
      "text/plain": [
       "1600"
      ]
     },
     "execution_count": 16,
     "metadata": {},
     "output_type": "execute_result"
    }
   ],
   "source": [
    "len(X_train)"
   ]
  },
  {
   "cell_type": "code",
   "execution_count": 17,
   "id": "f34a1896-5fea-4735-9076-8dbc830e46f6",
   "metadata": {
    "colab": {
     "base_uri": "https://localhost:8080/"
    },
    "id": "f34a1896-5fea-4735-9076-8dbc830e46f6",
    "outputId": "ebe77549-72bd-4b8b-e138-6fb3ce549191"
   },
   "outputs": [
    {
     "data": {
      "text/plain": [
       "400"
      ]
     },
     "execution_count": 17,
     "metadata": {},
     "output_type": "execute_result"
    }
   ],
   "source": [
    "len(X_test)"
   ]
  },
  {
   "cell_type": "code",
   "execution_count": null,
   "id": "jLiJajRkwiGl",
   "metadata": {
    "colab": {
     "base_uri": "https://localhost:8080/",
     "height": 206
    },
    "id": "jLiJajRkwiGl",
    "outputId": "2f27440d-cd70-4aa6-8677-d8b5b5b3181c"
   },
   "outputs": [],
   "source": [
    "model_params = {\n",
    "    'linear_regression': {\n",
    "        'model': LinearRegression(),\n",
    "        'params': {\n",
    "            'fit_intercept': [True, False]\n",
    "        }\n",
    "    },\n",
    "    'ridge': {\n",
    "        'model': Ridge(),\n",
    "        'params': {\n",
    "            'alpha': [0.1, 1.0, 10.0],\n",
    "            'solver': ['auto', 'svd', 'cholesky', 'lsqr', 'sparse_cg', 'sag', 'saga'],\n",
    "            'fit_intercept': [True, False]\n",
    "        },\n",
    "    },\n",
    "    'lasso': {\n",
    "        'model': Lasso(),\n",
    "        'params': {\n",
    "            'alpha': [0.1, 1.0, 10.0],\n",
    "            'selection': ['random', 'cyclic'],\n",
    "            'fit_intercept': [True, False]\n",
    "        },\n",
    "    },\n",
    "    'decision_tree': {\n",
    "        'model': DecisionTreeRegressor(),\n",
    "        'params': {\n",
    "            'criterion': ['squared_error', 'friedman_mse', 'absolute_error', 'poisson'],\n",
    "            'splitter': ['best', 'random'],\n",
    "            'max_depth': [None, 5, 10, 15, 20],\n",
    "            'min_samples_split': [2, 5, 10],\n",
    "            'min_samples_leaf': [1, 2, 4]\n",
    "        },\n",
    "    },\n",
    "    'random_forest': {\n",
    "        'model': RandomForestRegressor(),\n",
    "        'params': {\n",
    "            'n_estimators': [50, 100, 150],\n",
    "            'max_depth': [None, 5, 10, 15, 20],\n",
    "            'min_samples_split': [2, 5, 10],\n",
    "            'min_samples_leaf': [1, 2, 4]\n",
    "        },\n",
    "    },\n",
    "}\n",
    "\n",
    "# Perform GridSearchCV for each model and store the best models\n",
    "best_models = {}\n",
    "for model_name, model_info in model_params.items():\n",
    "    grid_search = GridSearchCV(estimator=model_info['model'],\n",
    "                               param_grid=model_info['params'],\n",
    "                               cv=5)\n",
    "\n",
    "    grid_search.fit(X_train, y_train)\n",
    "\n",
    "    best_models[model_name] = {\n",
    "        'model': grid_search.best_estimator_,\n",
    "        'best_params': grid_search.best_params_,\n",
    "        'best_score': grid_search.best_score_\n",
    "    }\n",
    "\n",
    "# Convert best models dictionary to DataFrame\n",
    "df = pd.DataFrame(best_models).transpose()\n",
    "df.reset_index(inplace=True)\n",
    "df.columns = ['Model', 'Best Estimator', 'Best Parameters', 'Best Score']\n",
    "\n",
    "# Display the DataFrame\n",
    "df"
   ]
  },
  {
   "cell_type": "code",
   "execution_count": null,
   "id": "ircPXCov6uJW",
   "metadata": {
    "colab": {
     "base_uri": "https://localhost:8080/",
     "height": 564
    },
    "id": "ircPXCov6uJW",
    "outputId": "1145b43f-09aa-4fe3-b193-1bf973031633"
   },
   "outputs": [],
   "source": [
    "import matplotlib.pyplot as plt\n",
    "\n",
    "plt.figure(figsize=(10, 6))\n",
    "plt.bar(df['Model'], df['Best Score'])\n",
    "plt.xlabel('Model')\n",
    "plt.ylabel('Best Score')\n",
    "_ = plt.title('Model Performance Comparison')"
   ]
  },
  {
   "cell_type": "code",
   "execution_count": null,
   "id": "D7eyIKOUz-6b",
   "metadata": {
    "id": "D7eyIKOUz-6b"
   },
   "outputs": [],
   "source": [
    "model = RandomForestRegressor()\n",
    "param_grid = {\n",
    "    'n_estimators': [50, 100, 200],\n",
    "    'max_depth': [None, 10, 20, 30],\n",
    "    'min_samples_split': [2, 5, 10],\n",
    "    'min_samples_leaf': [1, 2, 4]\n",
    "}\n",
    "# Initialize GridSearchCV\n",
    "grid_search = GridSearchCV(estimator=model, param_grid=param_grid, cv=5, n_jobs=-1, scoring='r2')\n",
    "\n",
    "# Fit the model\n",
    "grid_search.fit(X_train, y_train)\n",
    "\n",
    "# Get the best parameters\n",
    "best_params = grid_search.best_params_"
   ]
  },
  {
   "cell_type": "code",
   "execution_count": null,
   "id": "j4eTOZdsDk_m",
   "metadata": {
    "colab": {
     "base_uri": "https://localhost:8080/",
     "height": 75
    },
    "id": "j4eTOZdsDk_m",
    "outputId": "ae09c885-de3c-4247-b6f4-e1e438be82a7"
   },
   "outputs": [],
   "source": [
    "model = RandomForestRegressor(**best_params)\n",
    "model.fit(X_train, y_train)"
   ]
  },
  {
   "cell_type": "code",
   "execution_count": null,
   "id": "Uk0yzfzX7j1p",
   "metadata": {
    "colab": {
     "base_uri": "https://localhost:8080/"
    },
    "id": "Uk0yzfzX7j1p",
    "outputId": "24cc1b14-6ffd-4198-c4ab-6d0e7a6b04ef"
   },
   "outputs": [],
   "source": [
    "model.score(X_train, y_train)"
   ]
  },
  {
   "cell_type": "code",
   "execution_count": null,
   "id": "kTrm3TNK2pzE",
   "metadata": {
    "colab": {
     "base_uri": "https://localhost:8080/"
    },
    "id": "kTrm3TNK2pzE",
    "outputId": "65f898d7-8f9f-4429-f15c-e50bfddb1701"
   },
   "outputs": [],
   "source": [
    "model.score(X_test, y_test)"
   ]
  },
  {
   "cell_type": "code",
   "execution_count": null,
   "id": "-VMhqohx3iY-",
   "metadata": {
    "colab": {
     "base_uri": "https://localhost:8080/"
    },
    "id": "-VMhqohx3iY-",
    "outputId": "23ffcfdd-395f-4527-e768-ddd84d7f561c"
   },
   "outputs": [],
   "source": [
    "y_pred = model.predict(X_test)\n",
    "mse = mean_squared_error(y_test, y_pred)\n",
    "mae = mean_absolute_error(y_test, y_pred)\n",
    "r_squared = r2_score(y_test, y_pred)\n",
    "\n",
    "print(f\"Mean Squared Error: {mse}\")\n",
    "print(f\"Mean Absolute Error: {mae}\")\n",
    "print(f\"R-squared: {r_squared}\")"
   ]
  },
  {
   "cell_type": "markdown",
   "id": "kYJWVrBC4gbJ",
   "metadata": {
    "id": "kYJWVrBC4gbJ"
   },
   "source": [
    "Predictions (thumbsUpCount, ContentScore) -> rating score"
   ]
  },
  {
   "cell_type": "code",
   "execution_count": null,
   "id": "xcOk9s1M4fRd",
   "metadata": {
    "colab": {
     "base_uri": "https://localhost:8080/"
    },
    "id": "xcOk9s1M4fRd",
    "outputId": "817f4e0b-d413-4606-e5fc-526a181790a1"
   },
   "outputs": [],
   "source": [
    "model.predict([[0,4]]) # rounds to 5"
   ]
  },
  {
   "cell_type": "code",
   "execution_count": null,
   "id": "tKNeLTZ79Ft4",
   "metadata": {
    "colab": {
     "base_uri": "https://localhost:8080/"
    },
    "id": "tKNeLTZ79Ft4",
    "outputId": "a9b00678-713f-48bb-b6c8-8c6a80fddea3"
   },
   "outputs": [],
   "source": [
    "model.predict([[0,5]]) # rounds to 5"
   ]
  },
  {
   "cell_type": "code",
   "execution_count": null,
   "id": "ZHhmqB5cEeCp",
   "metadata": {
    "colab": {
     "base_uri": "https://localhost:8080/"
    },
    "id": "ZHhmqB5cEeCp",
    "outputId": "6ee0b3c1-2aff-4ef1-d584-6e6a6508079a"
   },
   "outputs": [],
   "source": [
    "model.predict([[0,2]])  # rounds to 3"
   ]
  },
  {
   "cell_type": "code",
   "execution_count": null,
   "id": "b5787c1c-09fa-4a73-b669-893914def8c5",
   "metadata": {},
   "outputs": [],
   "source": []
  }
 ],
 "metadata": {
  "accelerator": "TPU",
  "colab": {
   "gpuType": "V28",
   "provenance": []
  },
  "kernelspec": {
   "display_name": "Python 3 (ipykernel)",
   "language": "python",
   "name": "python3"
  },
  "language_info": {
   "codemirror_mode": {
    "name": "ipython",
    "version": 3
   },
   "file_extension": ".py",
   "mimetype": "text/x-python",
   "name": "python",
   "nbconvert_exporter": "python",
   "pygments_lexer": "ipython3",
   "version": "3.11.7"
  }
 },
 "nbformat": 4,
 "nbformat_minor": 5
}
